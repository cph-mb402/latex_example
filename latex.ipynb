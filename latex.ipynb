{
 "cells": [
  {
   "cell_type": "markdown",
   "metadata": {},
   "source": [
    "$y=\\frac{-b\\pm\\sqrt{b^2-4ac}}{2a}$"
   ]
  },
  {
   "cell_type": "markdown",
   "metadata": {},
   "source": [
    "`SELECT \n",
    "    users.DisplayName as Name, \n",
    "    posts.Title as Title\n",
    "FROM posts inner join users on posts.OwnerUserId = users.Id\n",
    "where posts.PostTypeId=1;`\n",
    "\n",
    "$\\rho_{Name/p.DisplayName}(\\rho_{Title/p.Title}(\n",
    "\n",
    "$\\qquad\\qquad\\qquad\\sigma_{p.PostTypeId=1}(\\sigma_{p.OwnerUserId=u.Id}(posts\\times users))))\n",
    "\n",
    "$\\rho_{Name/p.DisplayName}(\\rho_{Title/p.Title}($\n",
    "\n",
    "$\\qquad\\qquad\\qquad\\sigma_{p.PostTypeId=1}(\\sigma_{p.OwnerUserId=u.Id}(posts\\times users)))$\n",
    "\n",
    "$)$"
   ]
  },
  {
   "cell_type": "markdown",
   "metadata": {},
   "source": [
    "`SELECT customerName, city, salesRepEmployeeNumber as rep \n",
    "FROM classicmodels.customers\n",
    "WHERE creditLimit > 50000 AND country = 'France'`\n",
    "\n",
    "$\\Pi_{customerName,city,rep}(\\rho_{rep/salesEmployeeNumber}\n",
    "\n",
    "(\\sigma_{creditLimit>5000 \\wedge country='France'}(customers)\n",
    "\n",
    ")\n",
    "\n",
    "$\\Pi_{customerName,city,rep}(\\rho_{rep/salesEmployeeNumber}$\n",
    "\n",
    "$\\qquad(\\sigma_{creditLimit>5000 \\wedge country='France'}(customers)$\n",
    "\n",
    "$)$"
   ]
  }
 ],
 "metadata": {
  "kernelspec": {
   "display_name": "Python 3",
   "language": "python",
   "name": "python3"
  },
  "language_info": {
   "codemirror_mode": {
    "name": "ipython",
    "version": 3
   },
   "file_extension": ".py",
   "mimetype": "text/x-python",
   "name": "python",
   "nbconvert_exporter": "python",
   "pygments_lexer": "ipython3",
   "version": "3.6.7"
  }
 },
 "nbformat": 4,
 "nbformat_minor": 2
}
